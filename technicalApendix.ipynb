{
 "cells": [
  {
   "cell_type": "markdown",
   "metadata": {},
   "source": [
    "# <center> Matching of the SDG </center>\n",
    "\n",
    "\n",
    "As said before, to classify each project of investment of the Ecuadorian Government, we design a matching process between each project as one (or none) of the UN SDG. This required:\n",
    "\n",
    "- To get the name of each project of investment of the Ecuadorian Government (See the PAI database).\n",
    "- To get the specific SDG (SSDG) of each SDG"
   ]
  },
  {
   "cell_type": "markdown",
   "metadata": {},
   "source": []
  }
 ],
 "metadata": {
  "kernelspec": {
   "display_name": "Python 3.10.7 64-bit (microsoft store)",
   "language": "python",
   "name": "python3"
  },
  "language_info": {
   "name": "python",
   "version": "3.10.7"
  },
  "orig_nbformat": 4,
  "vscode": {
   "interpreter": {
    "hash": "e90f4682d4a1b852a30b0141bb736fb75eff518b9565efc977029e14f9f19b5c"
   }
  }
 },
 "nbformat": 4,
 "nbformat_minor": 2
}
